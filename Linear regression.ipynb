{
 "cells": [
  {
   "cell_type": "code",
   "execution_count": 1,
   "metadata": {
    "collapsed": true
   },
   "outputs": [],
   "source": [
    "import numpy as np\n",
    "from matplotlib import pyplot as plt\n",
    "\n",
    "from sklearn import datasets"
   ]
  },
  {
   "cell_type": "markdown",
   "metadata": {},
   "source": [
    "## Data Generation"
   ]
  },
  {
   "cell_type": "code",
   "execution_count": 2,
   "metadata": {
    "collapsed": true
   },
   "outputs": [],
   "source": [
    "diabetes = datasets.load_diabetes()\n",
    "\n",
    "diabetes_X = diabetes.data[:, np.newaxis, 2]\n",
    "\n",
    "diabetes_X_train = diabetes_X[:-20]\n",
    "diabetes_X_test = diabetes_X[-20:]\n",
    "\n",
    "diabetes_y_train = diabetes.target[:-20]\n",
    "diabetes_y_test = diabetes.target[-20:]"
   ]
  },
  {
   "cell_type": "markdown",
   "metadata": {},
   "source": [
    "## Linear regression (gradient descent with locally optimal step size)"
   ]
  },
  {
   "cell_type": "code",
   "execution_count": 3,
   "metadata": {
    "collapsed": true
   },
   "outputs": [],
   "source": [
    "def h(X, theta):\n",
    "    return theta[0] + np.dot(theta[1:],X.T)"
   ]
  },
  {
   "cell_type": "markdown",
   "metadata": {},
   "source": [
    "### Cost function"
   ]
  },
  {
   "cell_type": "code",
   "execution_count": 4,
   "metadata": {
    "collapsed": true
   },
   "outputs": [],
   "source": [
    "def function(X, y, theta):\n",
    "    cost = sum(h(X,theta) - y)**2\n",
    "    return cost/len(X)"
   ]
  },
  {
   "cell_type": "markdown",
   "metadata": {},
   "source": [
    "### Gradient"
   ]
  },
  {
   "cell_type": "code",
   "execution_count": 5,
   "metadata": {
    "collapsed": true
   },
   "outputs": [],
   "source": [
    "def Gradient(features, predictions, theta):\n",
    "    grad = []\n",
    "    for val in range(len(theta)):\n",
    "        if val == 0:\n",
    "            grad.append(1/2/len(features) * sum((h(features,theta) - predictions)))\n",
    "        else:\n",
    "            grad.append(1/2/len(features) * sum(features[val]*(h(features,theta) - predictions)))\n",
    "    return grad"
   ]
  },
  {
   "cell_type": "code",
   "execution_count": 6,
   "metadata": {
    "collapsed": true
   },
   "outputs": [],
   "source": [
    "def next_value(current_value, Lambda, gradient):\n",
    "    '''determines value for a one-dimensional step search'''\n",
    "    \n",
    "    next_value_Lambda = [current_value[i]- Lambda*gradient[i] for i in range(len(gradient))]\n",
    "    return next_value_Lambda"
   ]
  },
  {
   "cell_type": "markdown",
   "metadata": {},
   "source": [
    "### Swenn method"
   ]
  },
  {
   "cell_type": "code",
   "execution_count": 7,
   "metadata": {
    "collapsed": true
   },
   "outputs": [],
   "source": [
    "def Swenn_method(L_initial, delta_L, features, predictions, x, gradient):\n",
    "    '''determines line-segment for the optimal step'''\n",
    "    \n",
    "    L_next = 0\n",
    "    step = 0\n",
    "    \n",
    "    past_function_value = function(features, predictions, next_value(x, L_initial, gradient))\n",
    "    left_shift = function(features, predictions, next_value(x, (L_initial - abs(delta_L)), gradient))\n",
    "    right_shift = function(features, predictions, next_value(x, (L_initial + abs(delta_L)), gradient))\n",
    "    \n",
    "    if left_shift >= past_function_value >= right_shift:\n",
    "        sign = 1\n",
    "        \n",
    "    elif left_shift <= past_function_value <= right_shift:\n",
    "        sign = -1\n",
    "        \n",
    "    else:\n",
    "        return [L_initial - abs(delta_L),L_initial + abs(delta_L)]\n",
    "        \n",
    "    while step <= 1000:\n",
    "        fake_new_step = L_initial + sign*pow(2,step)*delta_L\n",
    "        current_position = function(features, predictions, next_value(x, fake_new_step, gradient))\n",
    "        if current_position >= past_function_value:\n",
    "            new_step = (L_initial + fake_new_step)/2\n",
    "            initial_position = function(features, predictions, next_value(x, L_initial, gradient))\n",
    "            condL = function(features, predictions, next_value(x, new_step, gradient))\n",
    "            if initial_position <= condL <= current_position:\n",
    "                return [min(L_next, new_step), max(L_next, new_step)]\n",
    "            elif initial_position >= condL <= current_position:\n",
    "                return [L_initial, fake_new_step]\n",
    "        else:\n",
    "            past_function_value = current_position\n",
    "            L_next = L_initial\n",
    "            L_initial = fake_new_step\n",
    "            step = step + 1"
   ]
  },
  {
   "cell_type": "markdown",
   "metadata": {},
   "source": [
    "### Golden-section search"
   ]
  },
  {
   "cell_type": "code",
   "execution_count": 8,
   "metadata": {
    "collapsed": true
   },
   "outputs": [],
   "source": [
    "def Golden_ratio_method(interval,accuracy, features,predictions, step, gradient):\n",
    "    '''determines optimal step for every iteration'''\n",
    "    \n",
    "    length = max(interval) - min(interval)\n",
    "    Lambda_left = min(interval) + 0.382*length\n",
    "    Lambda_right = min(interval) + 0.618*length\n",
    "    \n",
    "    while (length >= accuracy):\n",
    "        cond_left = function(features,predictions, next_value(step, Lambda_left, gradient))\n",
    "        cond_right = function(features,predictions, next_value(step, Lambda_right, gradient))\n",
    "        if cond_left <= cond_right:\n",
    "            length = Lambda_right - min(interval)\n",
    "            Lambda_right = Lambda_left\n",
    "            Lambda_left = min(interval) + 0.382*length\n",
    "            interval = [min(interval), Lambda_right]\n",
    "        elif cond_left >= cond_right:\n",
    "            length = max(interval) - Lambda_left\n",
    "            Lambda_left = Lambda_right\n",
    "            Lambda_right = Lambda_left + 0.618*length\n",
    "            interval = [Lambda_left, max(interval)]\n",
    "            mean = (max(interval) + min(interval))/2\n",
    "            return(mean)"
   ]
  },
  {
   "cell_type": "markdown",
   "metadata": {},
   "source": [
    "### Gradient descent"
   ]
  },
  {
   "cell_type": "code",
   "execution_count": 9,
   "metadata": {
    "collapsed": true
   },
   "outputs": [],
   "source": [
    "def linear_regression_gradient_descent(accuracy, features, predictions, theta):\n",
    "    \n",
    "    theta = np.array(theta)    \n",
    "    alpha = 0.3\n",
    "    grad = Gradient(features,predictions, theta)\n",
    "    \n",
    "\n",
    "    while pow(((grad[0] ** 2)+(grad[1] ** 2)),0.5) >= accuracy:\n",
    "        interval = Swenn_method(alpha, 0.05, features,predictions, theta, grad)\n",
    "        alpha = Golden_ratio_method(interval, 0.05, features,predictions, theta, grad)\n",
    "        new_theta = []\n",
    "        for val in range(len(grad)):\n",
    "            new_theta.append(theta[val] - alpha*grad[val])\n",
    "        theta = np.array(new_theta)\n",
    "        grad = Gradient(features,predictions, theta)\n",
    "    \n",
    "    return theta"
   ]
  },
  {
   "cell_type": "code",
   "execution_count": 10,
   "metadata": {
    "collapsed": true
   },
   "outputs": [],
   "source": [
    "regr_coeficients = linear_regression_gradient_descent(0.01, diabetes_X_train, diabetes_y_train, [1,900])"
   ]
  },
  {
   "cell_type": "code",
   "execution_count": 11,
   "metadata": {},
   "outputs": [
    {
     "data": {
      "text/plain": [
       "array([ 152.94052108,  892.17900431])"
      ]
     },
     "execution_count": 11,
     "metadata": {},
     "output_type": "execute_result"
    }
   ],
   "source": [
    "regr_coeficients"
   ]
  },
  {
   "cell_type": "code",
   "execution_count": 12,
   "metadata": {
    "collapsed": true
   },
   "outputs": [],
   "source": [
    "X_test = np.concatenate((np.ones(len(diabetes_X_test)).reshape(len(diabetes_X_test),1), diabetes_X_test), axis=1)"
   ]
  },
  {
   "cell_type": "code",
   "execution_count": 13,
   "metadata": {},
   "outputs": [
    {
     "data": {
      "image/png": "[encoded data removed]",
      "text/plain": [
       "<matplotlib.figure.Figure at 0x7f68c0d69ba8>"
      ]
     },
     "metadata": {},
     "output_type": "display_data"
    }
   ],
   "source": [
    "y_pred = np.dot(regr_coeficients, X_test.T)\n",
    "\n",
    "plt.scatter(diabetes_X_test, diabetes_y_test,  color='black')\n",
    "plt.plot(diabetes_X_test, y_pred, color='blue', linewidth=3)\n",
    "\n",
    "plt.xticks(())\n",
    "plt.yticks(())\n",
    "\n",
    "plt.show()"
   ]
  },
  {
   "cell_type": "markdown",
   "metadata": {},
   "source": [
    "Linear regression (Ordinary Least Squares)"
   ]
  },
  {
   "cell_type": "code",
   "execution_count": 14,
   "metadata": {
    "collapsed": true
   },
   "outputs": [],
   "source": [
    "def linear_regression_ols(X_train, y_train, X_test):\n",
    "    X = np.concatenate((np.ones(len(X_train)).reshape(len(X_train),1), X_train), axis=1)\n",
    "    regr_coef = np.dot(np.linalg.inv(np.dot(X.T, X)), np.dot(X.T, y_train))\n",
    "    y_pred = [regr_coef[0] + sum([regr_coef[j] * X_test[i, j-1] for j in range(1,len(regr_coef))]) for i in range(len(X_test))]\n",
    "    return y_pred"
   ]
  },
  {
   "cell_type": "code",
   "execution_count": 15,
   "metadata": {},
   "outputs": [
    {
     "data": {
      "image/png": "[encoded data removed]",
      "text/plain": [
       "<matplotlib.figure.Figure at 0x7f68b977d860>"
      ]
     },
     "metadata": {},
     "output_type": "display_data"
    }
   ],
   "source": [
    "plt.scatter(diabetes_X_test, diabetes_y_test,  color='black')\n",
    "y_pred = linear_regression_ols(diabetes_X_train, diabetes_y_train, diabetes_X_test)\n",
    "plt.plot(diabetes_X_test, y_pred, color='blue', linewidth=3)\n",
    "\n",
    "plt.xticks(())\n",
    "plt.yticks(())\n",
    "\n",
    "plt.show()"
   ]
  },
  {
   "cell_type": "markdown",
   "metadata": {},
   "source": [
    "Linear regression (sklearn)"
   ]
  },
  {
   "cell_type": "code",
   "execution_count": 16,
   "metadata": {
    "collapsed": true
   },
   "outputs": [],
   "source": [
    "from sklearn import datasets, linear_model\n",
    "from sklearn.metrics import mean_squared_error, r2_score"
   ]
  },
  {
   "cell_type": "code",
   "execution_count": 17,
   "metadata": {},
   "outputs": [
    {
     "name": "stdout",
     "output_type": "stream",
     "text": [
      "Coefficients: \n",
      " [ 938.23786125]\n",
      "Mean squared error: 2548.07\n",
      "Variance score: 0.47\n"
     ]
    }
   ],
   "source": [
    "regr = linear_model.LinearRegression()\n",
    "\n",
    "regr.fit(diabetes_X_train, diabetes_y_train)\n",
    "\n",
    "diabetes_y_pred = regr.predict(diabetes_X_test)\n",
    "\n",
    "print('Coefficients: \\n', regr.coef_)\n",
    "print(\"Mean squared error: %.2f\"\n",
    "      % mean_squared_error(diabetes_y_test, diabetes_y_pred))\n",
    "print('Variance score: %.2f' % r2_score(diabetes_y_test, diabetes_y_pred))"
   ]
  },
  {
   "cell_type": "code",
   "execution_count": 18,
   "metadata": {},
   "outputs": [
    {
     "data": {
      "image/png": "[encoded data removed]",
      "text/plain": [
       "<matplotlib.figure.Figure at 0x7f68b8119320>"
      ]
     },
     "metadata": {},
     "output_type": "display_data"
    }
   ],
   "source": [
    "plt.scatter(diabetes_X_test, diabetes_y_test,  color='black')\n",
    "plt.plot(diabetes_X_test, diabetes_y_pred, color='blue', linewidth=3)\n",
    "\n",
    "plt.xticks(())\n",
    "plt.yticks(())\n",
    "\n",
    "plt.show()"
   ]
  }
 ],
 "metadata": {
  "kernelspec": {
   "display_name": "Python 3",
   "language": "python",
   "name": "python3"
  },
  "language_info": {
   "codemirror_mode": {
    "name": "ipython",
    "version": 3
   },
   "file_extension": ".py",
   "mimetype": "text/x-python",
   "name": "python",
   "nbconvert_exporter": "python",
   "pygments_lexer": "ipython3",
   "version": "3.6.3"
  }
 },
 "nbformat": 4,
 "nbformat_minor": 2
}
