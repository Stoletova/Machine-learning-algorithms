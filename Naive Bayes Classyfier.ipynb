{
 "cells": [
  {
   "cell_type": "code",
   "execution_count": 1,
   "metadata": {
    "collapsed": true
   },
   "outputs": [],
   "source": [
    "import numpy as np\n",
    "from matplotlib import pyplot as plt\n",
    "import pandas as pd"
   ]
  },
  {
   "cell_type": "code",
   "execution_count": 2,
   "metadata": {
    "collapsed": true
   },
   "outputs": [],
   "source": [
    "data = pd.read_csv('animals.csv', delimiter=',')\n",
    "X = data"
   ]
  },
  {
   "cell_type": "code",
   "execution_count": 3,
   "metadata": {
    "collapsed": true
   },
   "outputs": [],
   "source": [
    "X_train = X.iloc[:28,:]\n",
    "X_test = X.iloc[28:,:]"
   ]
  },
  {
   "cell_type": "code",
   "execution_count": 4,
   "metadata": {
    "collapsed": true
   },
   "outputs": [],
   "source": [
    "y_test = list(X_test[' Class'])\n",
    "X_test = X_test.loc[:, X_test.columns != ' Class']"
   ]
  },
  {
   "cell_type": "code",
   "execution_count": 5,
   "metadata": {
    "collapsed": true
   },
   "outputs": [],
   "source": [
    "class Naive_Bayes_Classyfier:\n",
    "    \n",
    "    def __init__(self, X):\n",
    "        self.X_train = X\n",
    "        self.y_train = list(X[' Class'])\n",
    "        self.cols = X.loc[:, X.columns != ' Class'].columns.tolist()\n",
    "    \n",
    "    def teach_model(self):\n",
    "        self.cls_quan = len(set(self.y_train))\n",
    "        self.attrib_quan = len(self.X_train.T) - 1\n",
    "        self.y_sum = [self.y_train.count(j)/len(self.y_train) for j in range(self.cls_quan)]\n",
    "        \n",
    "        self.probabilities = []\n",
    "        for col in range(len(self.cols)):\n",
    "            self.probabilities.append(pd.crosstab(self.X_train[self.cols[col]], self.X_train[' Class']))\n",
    "            self.probabilities[col] /=  len(self.X_train)\n",
    "      \n",
    "    def prediction(self, val):\n",
    "        prob = 0\n",
    "        y_prob = 0\n",
    "        for cls in range(self.cls_quan):\n",
    "            prob_new = self.y_sum[cls]\n",
    "            for k in range(self.attrib_quan):\n",
    "                if val[k] in self.probabilities[k][cls].index:\n",
    "                    prob_new *= self.probabilities[k][cls][val[k]]\n",
    "                else: \n",
    "                    prob_new = 0\n",
    "            if prob_new >= prob:\n",
    "                prob = prob_new\n",
    "                y_prob = cls\n",
    "        return y_prob\n",
    "    \n",
    "    def result(self, X_test):\n",
    "        y_test = X_test.apply(lambda row: self.prediction(row),axis=1)\n",
    "        return y_test"
   ]
  },
  {
   "cell_type": "code",
   "execution_count": 6,
   "metadata": {
    "collapsed": true
   },
   "outputs": [],
   "source": [
    "model = Naive_Bayes_Classyfier(X)\n",
    "\n",
    "model.teach_model()\n",
    "y_pred = model.result(X_test)"
   ]
  },
  {
   "cell_type": "code",
   "execution_count": 7,
   "metadata": {},
   "outputs": [
    {
     "name": "stdout",
     "output_type": "stream",
     "text": [
      "2 2\n",
      "2 2\n",
      "2 2\n",
      "1 1\n",
      "1 1\n",
      "1 1\n",
      "2 2\n",
      "2 2\n",
      "1 1\n",
      "1 1\n",
      "2 2\n"
     ]
    }
   ],
   "source": [
    "for i in range(len(y_pred)):\n",
    "    print(y_pred.iloc[i], y_test[i])"
   ]
  },
  {
   "cell_type": "code",
   "execution_count": null,
   "metadata": {
    "collapsed": true
   },
   "outputs": [],
   "source": []
  }
 ],
 "metadata": {
  "kernelspec": {
   "display_name": "Python 3",
   "language": "python",
   "name": "python3"
  },
  "language_info": {
   "codemirror_mode": {
    "name": "ipython",
    "version": 3
   },
   "file_extension": ".py",
   "mimetype": "text/x-python",
   "name": "python",
   "nbconvert_exporter": "python",
   "pygments_lexer": "ipython3",
   "version": "3.6.3"
  }
 },
 "nbformat": 4,
 "nbformat_minor": 2
}
