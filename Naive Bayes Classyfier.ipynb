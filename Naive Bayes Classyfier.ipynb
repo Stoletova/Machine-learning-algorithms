{
 "cells": [
  {
   "cell_type": "code",
   "execution_count": 90,
   "metadata": {
    "collapsed": true
   },
   "outputs": [],
   "source": [
    "import numpy as np\n",
    "from matplotlib import pyplot as plt"
   ]
  },
  {
   "cell_type": "code",
   "execution_count": 91,
   "metadata": {
    "collapsed": true
   },
   "outputs": [],
   "source": [
    "# 0 - fish, 1 - parrot, 2 - dog\n",
    "# X - swim, wings, green, teeth\n",
    "X = [[1,0,1,0],[0,1,1,0],[1,0,0,1],[1,0,0,0],[0,1,1,0],[0,1,1,0],[1,0,0,1],[0,1,0,0],[1,0,0,0],[0,0,0,1]]\n",
    "y = [0, 1, 2, 0, 1, 1, 2, 1, 0, 2]"
   ]
  },
  {
   "cell_type": "code",
   "execution_count": 92,
   "metadata": {},
   "outputs": [],
   "source": [
    "X = np.array(X)"
   ]
  },
  {
   "cell_type": "code",
   "execution_count": 93,
   "metadata": {},
   "outputs": [],
   "source": [
    "# z[0] - fish (0), z[1] - dog(2)",
    "z = [[1,0,1,0],[1,0,1,1]]"
   ]
  },
  {
   "cell_type": "code",
   "execution_count": 141,
   "metadata": {
    "collapsed": true
   },
   "outputs": [],
   "source": [
    "class Naive_Bayes_Classyfier:\n",
    "    \n",
    "    def __init__(self, X, y):\n",
    "        self.X_train = X\n",
    "        self.y_train = y\n",
    "    \n",
    "    def teach_model(self):\n",
    "        self.cls_quan = len(set(self.y_train))\n",
    "        self.attrib_quan = len(self.X_train[0])\n",
    "        self.X_sum = [sum(self.X_train.T[val]) for val in range(self.attrib_quan)]\n",
    "        self.y_sum = [self.y_train.count(j)/len(self.y_train) for j in range(self.cls_quan)]\n",
    "\n",
    "        self.probabilities = np.zeros((self.cls_quan, self.attrib_quan))\n",
    "        for val in range(len(self.X_train)):\n",
    "            for j in range(self.cls_quan):\n",
    "                if self.y_train[val] == j:\n",
    "                    self.probabilities[j] += self.X_train[val]\n",
    "        self.probabilities /= self.X_sum\n",
    "  \n",
    "    def prediction(self, X_test):\n",
    "        y_pred = []\n",
    "        for val in X_test:\n",
    "            prob = 0\n",
    "            for cls in range(self.cls_quan):\n",
    "                prob_new = self.y_sum[cls]\n",
    "                for k in range(self.attrib_quan):\n",
    "                    if val[k] != 0:\n",
    "                        prob_new *= self.probabilities[cls][k]\n",
    "                if prob_new >= prob:\n",
    "                        prob = prob_new\n",
    "                        y_prob = cls\n",
    "            y_pred.append(y_prob)\n",
    "    \n",
    "        return y_pred"
   ]
  },
  {
   "cell_type": "code",
   "execution_count": 142,
   "metadata": {},
   "outputs": [],
   "source": [
    "model = Naive_Bayes_Classyfier(X, y)"
   ]
  },
  {
   "cell_type": "code",
   "execution_count": 143,
   "metadata": {},
   "outputs": [
    {
     "data": {
      "text/plain": [
       "[0, 2]"
      ]
     },
     "execution_count": 143,
     "metadata": {},
     "output_type": "execute_result"
    }
   ],
   "source": [
    "model.teach_model()\n",
    "model.prediction(z)"
   ]
  },
  {
   "cell_type": "code",
   "execution_count": null,
   "metadata": {
    "collapsed": true
   },
   "outputs": [],
   "source": []
  }
 ],
 "metadata": {
  "kernelspec": {
   "display_name": "Python 3",
   "language": "python",
   "name": "python3"
  },
  "language_info": {
   "codemirror_mode": {
    "name": "ipython",
    "version": 3
   },
   "file_extension": ".py",
   "mimetype": "text/x-python",
   "name": "python",
   "nbconvert_exporter": "python",
   "pygments_lexer": "ipython3",
   "version": "3.6.3"
  }
 },
 "nbformat": 4,
 "nbformat_minor": 2
}
