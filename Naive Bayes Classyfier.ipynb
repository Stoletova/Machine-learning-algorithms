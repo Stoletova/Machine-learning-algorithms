{
 "cells": [
  {
   "cell_type": "code",
   "execution_count": 1,
   "metadata": {
    "collapsed": true
   },
   "outputs": [],
   "source": [
    "import numpy as np\n",
    "from matplotlib import pyplot as plt\n",
    "import pandas as pd"
   ]
  },
  {
   "cell_type": "code",
   "execution_count": 2,
   "metadata": {
    "collapsed": true
   },
   "outputs": [],
   "source": [
    "X = pd.DataFrame([[1,0,1,0, 0],[0,1,1,0, 1],[1,0,0,1, 2],[1,0,0,0, 0],[0,1,1,0, 1],[0,1,1,0, 1],[1,0,0,1, 2],\n",
    "                  [0,1,0,0, 1],[1,0,0,0, 0],[0,0,0,1, 2],[1,0,1,0, 0],[1,0,1,1, 2]], \n",
    "                 columns = ['Swim', 'Wings', 'Green', 'Teeth', 'Class'])"
   ]
  },
  {
   "cell_type": "code",
   "execution_count": 3,
   "metadata": {
    "collapsed": true
   },
   "outputs": [],
   "source": [
    "X_train = X.iloc[:10,:]\n",
    "X_test = X.iloc[10:,:]"
   ]
  },
  {
   "cell_type": "code",
   "execution_count": 4,
   "metadata": {},
   "outputs": [
    {
     "data": {
      "text/html": [
       "<div>\n",
       "<style>\n",
       "    .dataframe thead tr:only-child th {\n",
       "        text-align: right;\n",
       "    }\n",
       "\n",
       "    .dataframe thead th {\n",
       "        text-align: left;\n",
       "    }\n",
       "\n",
       "    .dataframe tbody tr th {\n",
       "        vertical-align: top;\n",
       "    }\n",
       "</style>\n",
       "<table border=\"1\" class=\"dataframe\">\n",
       "  <thead>\n",
       "    <tr style=\"text-align: right;\">\n",
       "      <th></th>\n",
       "      <th>Swim</th>\n",
       "      <th>Wings</th>\n",
       "      <th>Green</th>\n",
       "      <th>Teeth</th>\n",
       "      <th>Class</th>\n",
       "    </tr>\n",
       "  </thead>\n",
       "  <tbody>\n",
       "    <tr>\n",
       "      <th>10</th>\n",
       "      <td>1</td>\n",
       "      <td>0</td>\n",
       "      <td>1</td>\n",
       "      <td>0</td>\n",
       "      <td>0</td>\n",
       "    </tr>\n",
       "    <tr>\n",
       "      <th>11</th>\n",
       "      <td>1</td>\n",
       "      <td>0</td>\n",
       "      <td>1</td>\n",
       "      <td>1</td>\n",
       "      <td>2</td>\n",
       "    </tr>\n",
       "  </tbody>\n",
       "</table>\n",
       "</div>"
      ],
      "text/plain": [
       "    Swim  Wings  Green  Teeth  Class\n",
       "10     1      0      1      0      0\n",
       "11     1      0      1      1      2"
      ]
     },
     "execution_count": 4,
     "metadata": {},
     "output_type": "execute_result"
    }
   ],
   "source": [
    "X_test"
   ]
  },
  {
   "cell_type": "code",
   "execution_count": 37,
   "metadata": {},
   "outputs": [],
   "source": [
    "class Naive_Bayes_Classyfier:\n",
    "    \n",
    "    def __init__(self, X):\n",
    "        self.X_train = X\n",
    "        self.y_train = list(X.Class)\n",
    "        self.cols = X.columns.tolist()\n",
    "    \n",
    "    def teach_model(self):\n",
    "        self.cls_quan = len(set(self.y_train))\n",
    "        self.attrib_quan = len(self.X_train.T) - 1\n",
    "        self.X_sum = self.X_train.sum(axis = 0)\n",
    "        self.y_sum = [self.y_train.count(j)/len(self.y_train) for j in range(self.cls_quan)]\n",
    "\n",
    "        self.probabilities = self.X_train.groupby(by='Class').sum()  / self.X_sum\n",
    "        self.probabilities = self.probabilities[self.cols]\n",
    "      \n",
    "    def prediction(self, val):\n",
    "        prob = 0\n",
    "        for cls in range(self.cls_quan):\n",
    "            prob_new = self.y_sum[cls]\n",
    "            for k in range(self.attrib_quan):\n",
    "                if val[k] != 0:\n",
    "                    prob_new *= self.probabilities.iloc[cls, k]\n",
    "            if prob_new >= prob:\n",
    "                    prob = prob_new\n",
    "                    y_prob = cls\n",
    "        return y_prob\n",
    "    \n",
    "    def result(self, X_test):\n",
    "        y_test = X_test.apply(lambda row: self.prediction(row),axis=1)\n",
    "        return y_test"
   ]
  },
  {
   "cell_type": "code",
   "execution_count": 38,
   "metadata": {},
   "outputs": [
    {
     "data": {
      "text/plain": [
       "10    0\n",
       "11    2\n",
       "dtype: int64"
      ]
     },
     "execution_count": 38,
     "metadata": {},
     "output_type": "execute_result"
    }
   ],
   "source": [
    "model = Naive_Bayes_Classyfier(X)\n",
    "\n",
    "model.teach_model()\n",
    "model.result(X_test)"
   ]
  },
  {
   "cell_type": "code",
   "execution_count": null,
   "metadata": {
    "collapsed": true
   },
   "outputs": [],
   "source": []
  }
 ],
 "metadata": {
  "kernelspec": {
   "display_name": "Python 3",
   "language": "python",
   "name": "python3"
  },
  "language_info": {
   "codemirror_mode": {
    "name": "ipython",
    "version": 3
   },
   "file_extension": ".py",
   "mimetype": "text/x-python",
   "name": "python",
   "nbconvert_exporter": "python",
   "pygments_lexer": "ipython3",
   "version": "3.6.3"
  }
 },
 "nbformat": 4,
 "nbformat_minor": 2
}
