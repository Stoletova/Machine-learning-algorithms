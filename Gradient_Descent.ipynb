{
 "cells": [
  {
   "cell_type": "code",
   "execution_count": 149,
   "metadata": {
    "collapsed": true
   },
   "outputs": [],
   "source": [
    "def function(x):\n",
    "    return (x[0] - 1)**2 + (x[1] - 1)**2 + 5"
   ]
  },
  {
   "cell_type": "code",
   "execution_count": 150,
   "metadata": {
    "collapsed": true
   },
   "outputs": [],
   "source": [
    "def Gradient(*x):\n",
    "    return [2*(x[0] - 1), 2*(x[1] - 1)]"
   ]
  },
  {
   "cell_type": "code",
   "execution_count": 151,
   "metadata": {
    "collapsed": true
   },
   "outputs": [],
   "source": [
    "def next_value(current_value, Lambda, gradient):\n",
    "        return current_value[0] - Lambda*gradient[0], current_value[1] - Lambda*gradient[1] "
   ]
  },
  {
   "cell_type": "code",
   "execution_count": 152,
   "metadata": {
    "collapsed": true
   },
   "outputs": [],
   "source": [
    "def Swenn_method(L_initial, delta_L, x, gradient):\n",
    "    \n",
    "    L_next = 0\n",
    "    step = 0\n",
    "    \n",
    "    past_function_value = function(next_value(x, L_initial, gradient))\n",
    "    left_shift = function(next_value(x, (L_initial - abs(delta_L)), gradient))\n",
    "    right_shift = function(next_value(x, (L_initial + abs(delta_L)), gradient))\n",
    "    \n",
    "    if left_shift >= past_function_value >= right_shift:\n",
    "        sign = 1\n",
    "        \n",
    "    elif left_shift <= past_function_value <= right_shift:\n",
    "        sign = -1\n",
    "        \n",
    "    else:\n",
    "        return [L_initial - abs(delta_L),L_initial + abs(delta_L)]\n",
    "        \n",
    "    while step <= 1000:\n",
    "        fake_new_step = L_initial + sign*pow(2,step)*delta_L\n",
    "        current_position = function(next_value(x, fake_new_step, gradient))\n",
    "        if current_position >= past_function_value:\n",
    "            new_step = (L_initial + fake_new_step)/2\n",
    "            initial_position = function(next_value(x, L_initial, gradient))\n",
    "            condL = function(next_value(x, new_step, gradient))\n",
    "            if initial_position <= condL <= current_position:\n",
    "                return [min(L_next, new_step), max(L_next, new_step)]\n",
    "            elif initial_position >= condL <= current_position:\n",
    "                return [L_initial, fake_new_step]\n",
    "        else:\n",
    "            past_function_value = current_position\n",
    "            L_next = L_initial\n",
    "            L_initial = fake_new_step\n",
    "            step = step + 1"
   ]
  },
  {
   "cell_type": "code",
   "execution_count": 153,
   "metadata": {
    "collapsed": true
   },
   "outputs": [],
   "source": [
    "def Golden_ratio_method(interval,accuracy,x, gradient):\n",
    "    \n",
    "    length = max(interval) - min(interval)\n",
    "    Lambda_left = min(interval) + 0.382*length\n",
    "    Lambda_right = min(interval) + 0.618*length\n",
    "    \n",
    "    while (length >= accuracy):\n",
    "        cond_left = function(next_value(x, Lambda_left, gradient))\n",
    "        cond_right = function(next_value(x, Lambda_right, gradient))\n",
    "        if cond_left <= cond_right:\n",
    "            length = Lambda_right - min(interval)\n",
    "            Lambda_right = Lambda_left\n",
    "            Lambda_left = min(interval) + 0.382*length\n",
    "            interval = [min(interval), Lambda_right]\n",
    "        elif cond_left >= cond_right:\n",
    "            length = max(interval) - Lambda_left\n",
    "            Lambda_left = Lambda_right\n",
    "            Lambda_right = Lambda_left + 0.618*length\n",
    "            interval = [Lambda_left, max(interval)]\n",
    "            mean = (max(interval) + min(interval))/2\n",
    "            return(mean)"
   ]
  },
  {
   "cell_type": "code",
   "execution_count": 154,
   "metadata": {
    "collapsed": true
   },
   "outputs": [],
   "source": [
    "def Gradient_descent(accuracy, theta):\n",
    "    \n",
    "    alpha = 0.3\n",
    "    grad = Gradient(*theta)\n",
    "\n",
    "    while pow(((grad[0] ** 2)+(grad[1] ** 2)),0.5) >= accuracy:\n",
    "        interval = Swenn_method(alpha, 0.05, theta, grad)\n",
    "        alpha = Golden_ratio_method(interval, 0.05, theta, grad)\n",
    "        theta_new_0 = theta[0] - alpha*Gradient(*theta)[0]\n",
    "        theta_new_1 = theta[1] - alpha*Gradient(*theta)[1]\n",
    "        theta = [theta_new_0, theta_new_1]\n",
    "        grad = Gradient(*theta)\n",
    "        print(\"Theta\", theta)\n",
    "        print(\"Gradient\", grad)\n",
    "    \n",
    "    return theta"
   ]
  },
  {
   "cell_type": "code",
   "execution_count": 155,
   "metadata": {},
   "outputs": [
    {
     "name": "stdout",
     "output_type": "stream",
     "text": [
      "Theta [-555.9655696000118, 557.9544304000156]\n",
      "Gradient [-1113.9311392000236, 1113.908860800031]\n",
      "Theta [32.31839676483639, -30.3177704031649]\n",
      "Gradient [62.63679352967279, -62.6355408063298]\n",
      "Theta [0.43531677897130194, 1.5646719274772174]\n",
      "Gradient [-1.1293664420573961, 1.1293438549544348]\n",
      "Theta [0.9968549403321585, 1.0031449967672772]\n",
      "Gradient [-0.00629011933568302, 0.0062899935345543945]\n",
      "Theta [1.0001768479631465, 0.9998231555737773]\n",
      "Gradient [0.000353695926293085, -0.0003536888524453552]\n"
     ]
    },
    {
     "data": {
      "text/plain": [
       "[1.0001768479631465, 0.9998231555737773]"
      ]
     },
     "execution_count": 155,
     "metadata": {},
     "output_type": "execute_result"
    }
   ],
   "source": [
    "Gradient_descent(0.001, [-100000,100000])"
   ]
  }
 ],
 "metadata": {
  "kernelspec": {
   "display_name": "Python 3",
   "language": "python",
   "name": "python3"
  },
  "language_info": {
   "codemirror_mode": {
    "name": "ipython",
    "version": 3
   },
   "file_extension": ".py",
   "mimetype": "text/x-python",
   "name": "python",
   "nbconvert_exporter": "python",
   "pygments_lexer": "ipython3",
   "version": "3.6.3"
  }
 },
 "nbformat": 4,
 "nbformat_minor": 2
}
